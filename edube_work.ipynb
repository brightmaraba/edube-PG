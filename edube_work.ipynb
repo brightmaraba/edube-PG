{
 "cells": [
  {
   "cell_type": "code",
   "execution_count": null,
   "metadata": {},
   "outputs": [],
   "source": [
    "# Join method -> Takes the form of a list and returns a string. The list is joined by the separator.\n",
    "print(\",\".join([\"1\", \"2\", \"3\"]))"
   ]
  },
  {
   "cell_type": "code",
   "execution_count": null,
   "metadata": {},
   "outputs": [],
   "source": [
    "print(\",\".join([\"Omicron\", \"Delta\", \"Gamma\"]))"
   ]
  },
  {
   "cell_type": "code",
   "execution_count": null,
   "metadata": {},
   "outputs": [],
   "source": [
    "# Lower method -> Returns a string with all uppercase characters converted to lowercase. No parameter is required.\n",
    "print(\"OMICRON\".lower())"
   ]
  },
  {
   "cell_type": "code",
   "execution_count": null,
   "metadata": {},
   "outputs": [],
   "source": [
    "# lstrip() - Removing leading and trailing whitespace -> Returns a string with all leading whitespaces\n",
    "print(\"   Omicron Delta Gamma   \".lstrip())"
   ]
  },
  {
   "cell_type": "code",
   "execution_count": null,
   "metadata": {},
   "outputs": [],
   "source": [
    "# Strip with a character -> Returns a string with all leading and trailing characters removed.\n",
    "print(\"www.cisco.com\".lstrip(\"w.\"))"
   ]
  },
  {
   "cell_type": "code",
   "execution_count": null,
   "metadata": {},
   "outputs": [],
   "source": [
    "print(\"pythoninstitute.org\".rstrip(\".org\"))"
   ]
  },
  {
   "cell_type": "code",
   "execution_count": null,
   "metadata": {},
   "outputs": [],
   "source": [
    "# Rstrip with a character -> Returns a string with all leading and trailing characters removed. Same as lstrip but begins from end of string\n",
    "print(\"cisco.com\".rstrip(\".com\"))"
   ]
  },
  {
   "cell_type": "code",
   "execution_count": null,
   "metadata": {},
   "outputs": [],
   "source": [
    "# Replace method -> Returns a string where the specified string is replaced with another string.\n",
    "print(\"Cisco\".replace(\"Cisco\", \"Python\"))"
   ]
  },
  {
   "cell_type": "code",
   "execution_count": null,
   "metadata": {},
   "outputs": [],
   "source": [
    "# Rfind method -> Returns the last position of the substring in the string. Rfind is case sensitive. Rfind returns -1 if the substring is not found.Starts searching from the end of the string.\n",
    "print(\"tau tau tau\".rfind(\"ta\"))"
   ]
  },
  {
   "cell_type": "code",
   "execution_count": null,
   "metadata": {},
   "outputs": [],
   "source": [
    "# Split method -> Returns a list of strings split at the specified separator.\n",
    "print(\"phi       chi\\npsi\".split())"
   ]
  },
  {
   "cell_type": "code",
   "execution_count": null,
   "metadata": {},
   "outputs": [],
   "source": [
    "# Startswith method -> Returns True if the string starts with the specified prefix.\n",
    "# Endswith method -> Returns True if the string ends with the specified suffix.\n",
    "# Demonstrating the startswith() method:\n",
    "print(\"omega\".startswith(\"meg\"))\n",
    "print(\"omega\".startswith(\"om\"))\n",
    "\n",
    "print()\n",
    "\n",
    "# strip method -> Returns a string with all leading and trailing characters removed.\n",
    "print(\"[\" + \"   aleph   \".strip() + \"]\")"
   ]
  },
  {
   "cell_type": "code",
   "execution_count": null,
   "metadata": {},
   "outputs": [],
   "source": [
    "# Swapcase method -> Returns a string with all uppercase characters converted to lowercase and vice versa.\n",
    "# Title method -> Returns a string with each word capitalized.\n",
    "# Upper method -> Returns a string with all lowercase characters converted to uppercase.\n",
    "# Demonstrating the swapcase() method:\n",
    "print(\"I know that I know nothing.\".swapcase())\n",
    "\n",
    "print()\n",
    "\n",
    "# Demonstrating the title() method:\n",
    "print(\"I know that I know nothing. Part 1.\".title())\n",
    "\n",
    "print()\n",
    "\n",
    "# Demonstrating the upper() method:\n",
    "print(\"I know that I know nothing. Part 2.\".upper())\n"
   ]
  },
  {
   "cell_type": "markdown",
   "metadata": {},
   "source": [
    "## Summary\n",
    "### Methods offered by strings are:\n",
    "- capitalize( ) – changes all string letters to capitals;\n",
    "- center( ) – centers the string inside the field of a known length;\n",
    "- count( ) – counts the occurrences of a given character;\n",
    "- join( ) – joins all items of a tuple/list into one string;\n",
    "- lower( ) – converts all the string's letters into lower-case letters;\n",
    "- lstrip( ) – removes the white characters from the beginning of the string;\n",
    "- replace( ) – replaces a given substring with another;\n",
    "- rfind( ) – finds a substring starting from the end of the string;\n",
    "- rstrip( ) – removes the trailing white spaces from the end of the string;\n",
    "- split( ) – splits the string into a substring using a given delimiter;\n",
    "- strip( ) – removes the leading and trailing white spaces;\n",
    "- swapcase( ) – swaps the letters' cases (lower to upper and vice versa)\n",
    "- title( ) – makes the first letter in each word upper-case;\n",
    "- upper( ) – converts all the string's letter into upper-case letters.\n",
    "### String content can be determined by the following methods (All return => Boolean Values)\n",
    "- endswith( ) – does the string end with a given substring?\n",
    "- isalnum( ) – does the string consist only of letters and digits?\n",
    "- isalpha( ) – does the string consist only of letters?\n",
    "- islower( ) – does the string consists only of lower-case letters?\n",
    "- isspace( ) – does the string consists only of white spaces?\n",
    "- isupper( ) – does the string consists only of upper-case letters?\n",
    "- startswith( ) – does the string begin with a given substring?"
   ]
  },
  {
   "cell_type": "markdown",
   "metadata": {},
   "source": [
    "## Excersises\n",
    "What are the expected output of the following pieces of code?\n",
    "Attempt to answer before running the code."
   ]
  },
  {
   "cell_type": "code",
   "execution_count": null,
   "metadata": {},
   "outputs": [],
   "source": [
    "for ch in \"abc123XYZ\":\n",
    "    if ch.isupper():\n",
    "        print(ch.lower(), end='')\n",
    "    elif ch.islower():\n",
    "        print(ch.upper(), end='')\n",
    "    else:\n",
    "        print(ch, end='')"
   ]
  },
  {
   "cell_type": "code",
   "execution_count": null,
   "metadata": {},
   "outputs": [],
   "source": [
    "s1 = 'Where are the snows of yesterday?'\n",
    "s2 = s1.split()\n",
    "print(s2[-2])"
   ]
  },
  {
   "cell_type": "code",
   "execution_count": null,
   "metadata": {},
   "outputs": [],
   "source": [
    "the_list = ['Where', 'are', 'the', 'snows', 'of', 'yesterday?']\n",
    "s = '*'.join(the_list)\n",
    "print(s)"
   ]
  },
  {
   "cell_type": "code",
   "execution_count": null,
   "metadata": {},
   "outputs": [],
   "source": [
    "s = 'It is either easy or hard'\n",
    "s = s.replace('easy', 'difficult').replace('hard', 'simple')\n",
    "print(s)"
   ]
  },
  {
   "cell_type": "code",
   "execution_count": null,
   "metadata": {},
   "outputs": [],
   "source": []
  },
  {
   "cell_type": "markdown",
   "metadata": {},
   "source": [
    "## Lab\n",
    "1. Write a program that:\n",
    "- accepts exactly one argument - a string;\n",
    "- returns a list of words created from the string, divided in the places where the string contains whitespaces;\n",
    "- the string is empty, the function should return an empty list;\n",
    "- its name should be mysplit()"
   ]
  },
  {
   "cell_type": "code",
   "execution_count": null,
   "metadata": {},
   "outputs": [],
   "source": [
    "# Solution\n",
    "def mysplit(strng):\n",
    "    if len(strng) == 0:\n",
    "        return []\n",
    "    else:\n",
    "        return strng.split()\n",
    "\n",
    "print(mysplit(\"To be or not to be, that is the question\"))\n",
    "print(mysplit(\"To be or not to be,that is the question\"))\n",
    "print(mysplit(\"   \"))\n",
    "print(mysplit(\" abc \"))\n",
    "print(mysplit(\"\"))\n"
   ]
  },
  {
   "cell_type": "code",
   "execution_count": null,
   "metadata": {},
   "outputs": [],
   "source": [
    "# String Comparasion\n",
    "# All operators ==, !=, <, >, <=, >= are supported.\n",
    "# They compare the CODE values of two operands.\n",
    "print(\"abc\" == \"abc\") # True\n",
    "print(\"abc\" != \"Abc\") # True\n",
    "# Longer strings are greater than shorter strings.\n",
    "print(\"abcd\" > \"Abc\") # True\n",
    "# Upper case letters are lesser than lower case letters.\n",
    "print(\"Abc\" < \"abc\") # True\n",
    "\n",
    "# Important -> Don't compare strings to numbers.\n",
    "\n"
   ]
  },
  {
   "cell_type": "code",
   "execution_count": null,
   "metadata": {},
   "outputs": [],
   "source": [
    "# Sorting strings\n",
    "# There are two ways to sort strings. The first is to use the built-in sort() function. The second is to use the sorted() function.\n",
    "# The built-in sort() function sorts a list in place. The sorted() function returns a (new) sorted list.\n",
    "greek = [\"Omega\", \"Alpha\", \"Beta\", \"Gamma\", \"Delta\"]\n",
    "greek_sorted = sorted(greek) # Returns a new sorted list\n",
    "print(greek)\n",
    "print(greek_sorted)"
   ]
  },
  {
   "cell_type": "code",
   "execution_count": null,
   "metadata": {},
   "outputs": [],
   "source": [
    "second_greek = [\"Omega\", \"Beta\", \"Alpha\", \"Epsilon\", \"Gamma\", \"Delta\"]\n",
    "print(second_greek)\n",
    "second_greek.sort() # Sorts the list in place. i.e. the original list is modified.\n",
    "print(second_greek)"
   ]
  },
  {
   "cell_type": "code",
   "execution_count": null,
   "metadata": {},
   "outputs": [],
   "source": [
    "# Converting strings to numbers and vice versa\n",
    "# The built-in int() function converts a string to an integer.\n",
    "# The built-in float() function converts a string to a float.\n",
    "# The built-in str() function converts a number to a string.\n",
    "a = \"123456\" # String\n",
    "b = int(a) # Integer\n",
    "c = float(a) # Float\n",
    "d = str(b) # Back to string\n",
    "print(type(a), type(b), type(c), type(d))"
   ]
  },
  {
   "cell_type": "markdown",
   "metadata": {},
   "source": [
    "## Summary\n",
    "1. string == number is always False.\n",
    "2. string != number is always True.\n",
    "3. string >= always raises an exception.\n",
    "4. sorted() returns a new list, not a reference to the original list.\n",
    "5. list.sort() modifies the original list.\n",
    "6. str(object) returns a string representation of the object.\n",
    "7. int(string) returns an integer representation of the string.\n",
    "8. float(string) returns a float representation of the string.\n",
    "9. conversion of fails if the string doesn't contain a number."
   ]
  },
  {
   "cell_type": "markdown",
   "metadata": {},
   "source": [
    "## Excersises -\n",
    "- Work them out on your own before looking at the solutions."
   ]
  },
  {
   "cell_type": "code",
   "execution_count": null,
   "metadata": {},
   "outputs": [],
   "source": [
    "# Which of the following will describe a true condition? Think about each of them before running the cell\n",
    "# 1. \"abc\" == \"abc\"\n",
    "# 2. \"abc\" != \"Abc\"\n",
    "# 3. \"abc\" < \"Abc\"\n",
    "# 4. 'smith' > 'Smith'\n",
    "# 5. 'Smiths' < 'smith'\n",
    "# 6. 'Smith' > '1000'\n",
    "# 7. '11' < '8'\n",
    "print(\"abc\" == \"abc\")\n",
    "print(\"abc\" != \"Abc\")\n",
    "print(\"abc\" < \"Abc\")\n",
    "print('smith' > 'Smith')\n",
    "print('Smiths' < 'smith')\n",
    "print('Smith' > '1000')\n",
    "print('11' < '8')"
   ]
  },
  {
   "cell_type": "code",
   "execution_count": null,
   "metadata": {},
   "outputs": [],
   "source": [
    "# What is the expected output for the following code? Tricky! Can you figure it out?\n",
    "s1 = \"Where are the rains of yesteryears?\"\n",
    "s2 = s1.split()\n",
    "s3 = sorted(s2)\n",
    "print(s2)"
   ]
  },
  {
   "cell_type": "code",
   "execution_count": null,
   "metadata": {},
   "outputs": [],
   "source": [
    "# What is the expected output for the following code? Tricky! Capital letters are considered less than lower case letters.\n",
    "s1 = \"Where are the rains of yesteryears?\"\n",
    "s2 = s1.split()\n",
    "print(s2)\n",
    "s2.sort()\n",
    "print(s2)"
   ]
  },
  {
   "cell_type": "code",
   "execution_count": null,
   "metadata": {},
   "outputs": [],
   "source": [
    "# What is the expected output of the following code? Do it by hand before running the cell.\n",
    "s1 = '15.8'\n",
    "i = int(s1) # ValueError - Parsing a float as an integer\n",
    "s2 = str(i)\n",
    "f = float(s2)\n",
    "print(s1 == s2)"
   ]
  },
  {
   "cell_type": "markdown",
   "metadata": {},
   "source": [
    "## Lab:\n",
    "1. Write a program that simulates 7 segments displays. Use the following characters: #\n",
    "- The program should accept exactly one argument - a integer number and print the corresponding 7-segment display.\n",
    "- For example, if the number is 45, the program should print the following:\n",
    "# # ###\n",
    "# # #\n",
    "### ###\n",
    "  #   #\n",
    "  # ###"
   ]
  },
  {
   "cell_type": "code",
   "execution_count": 17,
   "metadata": {},
   "outputs": [
    {
     "name": "stdout",
     "output_type": "stream",
     "text": [
      "  # ### ### # # \n",
      "  #   #   # # # \n",
      "  # ### ### ### \n",
      "  # #     #   # \n",
      "  # ### ###   # \n"
     ]
    }
   ],
   "source": [
    "# Solution\n",
    "# Create a seven-segment display using a string of characters.\n",
    "# A '#' represents a segment/LED.\n",
    "# Step 1: Create a string of characters that represents the seven-segment display.\n",
    "# Step 2: Use a for loop to iterate through the string.\n",
    "\n",
    "\n",
    "print0 = (\"###\", \"# #\", \"# #\", \"# #\", \"###\")\n",
    "print1 = (\"  #\", \"  #\", \"  #\", \"  #\", \"  #\")\n",
    "print2 = (\"###\", \"  #\", \"###\", \"#  \", \"###\")\n",
    "print3 = (\"###\", \"  #\", \"###\", \"  #\", \"###\")\n",
    "print4 = (\"# #\", \"# #\", \"###\", \"  #\", \"  #\")\n",
    "print5 = (\"###\", \"#  \", \"###\", \"  #\", \"###\")\n",
    "print6 = (\"###\", \"#  \", \"###\", \"# #\", \"###\")\n",
    "print7 = (\"###\", \"  #\", \"  #\", \"  #\", \"  #\")\n",
    "print8 = (\"###\", \"# #\", \"###\", \"# #\", \"###\")\n",
    "print9 = (\"###\", \"# #\", \"###\", \"  #\", \"###\")\n",
    "\n",
    "print_list = [\n",
    "    print0,\n",
    "    print1,\n",
    "    print2,\n",
    "    print3,\n",
    "    print4,\n",
    "    print5,\n",
    "    print6,\n",
    "    print7,\n",
    "    print8,\n",
    "    print9,\n",
    "]\n",
    "\n",
    "try:\n",
    "    input_integer = int(input(\"Enter an integer: \"))\n",
    "except ValueError:\n",
    "    print(\"Invalid input.\")\n",
    "    exit()\n",
    "\n",
    "input_string = str(input_integer)\n",
    "input_digits = [int(x) for x in input_string]\n",
    "\n",
    "for i in range(5):\n",
    "    result = \"\"\n",
    "    for j in input_digits:\n",
    "        result += print_list[j][i] + \" \"\n",
    "    print(result, sep=\"\\n\")\n"
   ]
  }
 ],
 "metadata": {
  "interpreter": {
   "hash": "6281920a2f7d55fb1819a37259a7b826a3ceec2b5323bb212e4bf02908926b41"
  },
  "kernelspec": {
   "display_name": "Python 3.8.10 ('env': venv)",
   "language": "python",
   "name": "python3"
  },
  "language_info": {
   "codemirror_mode": {
    "name": "ipython",
    "version": 3
   },
   "file_extension": ".py",
   "mimetype": "text/x-python",
   "name": "python",
   "nbconvert_exporter": "python",
   "pygments_lexer": "ipython3",
   "version": "3.8.10"
  },
  "orig_nbformat": 4
 },
 "nbformat": 4,
 "nbformat_minor": 2
}
