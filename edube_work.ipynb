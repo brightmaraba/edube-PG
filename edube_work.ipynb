{
 "cells": [
  {
   "cell_type": "code",
   "execution_count": 1,
   "metadata": {},
   "outputs": [
    {
     "name": "stdout",
     "output_type": "stream",
     "text": [
      "1,2,3\n"
     ]
    }
   ],
   "source": [
    "# Join method -> Takes the form of a list and returns a string. The list is joined by the separator.\n",
    "print(\",\".join([\"1\", \"2\", \"3\"]))"
   ]
  },
  {
   "cell_type": "code",
   "execution_count": 2,
   "metadata": {},
   "outputs": [
    {
     "name": "stdout",
     "output_type": "stream",
     "text": [
      "Omicron,Delta,Gamma\n"
     ]
    }
   ],
   "source": [
    "print(\",\".join([\"Omicron\", \"Delta\", \"Gamma\"]))"
   ]
  },
  {
   "cell_type": "code",
   "execution_count": 3,
   "metadata": {},
   "outputs": [
    {
     "name": "stdout",
     "output_type": "stream",
     "text": [
      "omicron\n"
     ]
    }
   ],
   "source": [
    "# Lower method -> Returns a string with all uppercase characters converted to lowercase. No parameter is required.\n",
    "print(\"OMICRON\".lower())"
   ]
  },
  {
   "cell_type": "code",
   "execution_count": 4,
   "metadata": {},
   "outputs": [
    {
     "name": "stdout",
     "output_type": "stream",
     "text": [
      "Omicron Delta Gamma   \n"
     ]
    }
   ],
   "source": [
    "# lstrip() - Removing leading and trailing whitespace -> Returns a string with all leading whitespaces\n",
    "print(\"   Omicron Delta Gamma   \".lstrip())"
   ]
  },
  {
   "cell_type": "code",
   "execution_count": 9,
   "metadata": {},
   "outputs": [
    {
     "name": "stdout",
     "output_type": "stream",
     "text": [
      "cisco.com\n"
     ]
    }
   ],
   "source": [
    "# Strip with a character -> Returns a string with all leading and trailing characters removed.\n",
    "print(\"www.cisco.com\".lstrip(\"w.\"))"
   ]
  },
  {
   "cell_type": "code",
   "execution_count": 11,
   "metadata": {},
   "outputs": [
    {
     "name": "stdout",
     "output_type": "stream",
     "text": [
      "pythoninstitute\n"
     ]
    }
   ],
   "source": [
    "print(\"pythoninstitute.org\".rstrip(\".org\"))"
   ]
  },
  {
   "cell_type": "code",
   "execution_count": 5,
   "metadata": {},
   "outputs": [
    {
     "name": "stdout",
     "output_type": "stream",
     "text": [
      "cis\n"
     ]
    }
   ],
   "source": [
    "# Rstrip with a character -> Returns a string with all leading and trailing characters removed. Same as lstrip but begins from end of string\n",
    "print(\"cisco.com\".rstrip(\".com\"))"
   ]
  },
  {
   "cell_type": "code",
   "execution_count": 1,
   "metadata": {},
   "outputs": [
    {
     "name": "stdout",
     "output_type": "stream",
     "text": [
      "Python\n"
     ]
    }
   ],
   "source": [
    "# Replace method -> Returns a string where the specified string is replaced with another string.\n",
    "print(\"Cisco\".replace(\"Cisco\", \"Python\"))"
   ]
  },
  {
   "cell_type": "code",
   "execution_count": 2,
   "metadata": {},
   "outputs": [
    {
     "name": "stdout",
     "output_type": "stream",
     "text": [
      "8\n"
     ]
    }
   ],
   "source": [
    "# Rfind method -> Returns the last position of the substring in the string. Rfind is case sensitive. Rfind returns -1 if the substring is not found.Starts searching from the end of the string.\n",
    "print(\"tau tau tau\".rfind(\"ta\"))"
   ]
  },
  {
   "cell_type": "code",
   "execution_count": 6,
   "metadata": {},
   "outputs": [
    {
     "name": "stdout",
     "output_type": "stream",
     "text": [
      "['phi', 'chi', 'psi']\n"
     ]
    }
   ],
   "source": [
    "# Split method -> Returns a list of strings split at the specified separator.\n",
    "print(\"phi       chi\\npsi\".split())"
   ]
  },
  {
   "cell_type": "code",
   "execution_count": 7,
   "metadata": {},
   "outputs": [
    {
     "name": "stdout",
     "output_type": "stream",
     "text": [
      "False\n",
      "True\n",
      "\n",
      "[aleph]\n"
     ]
    }
   ],
   "source": [
    "# Startswith method -> Returns True if the string starts with the specified prefix.\n",
    "# Endswith method -> Returns True if the string ends with the specified suffix.\n",
    "# Demonstrating the startswith() method:\n",
    "print(\"omega\".startswith(\"meg\"))\n",
    "print(\"omega\".startswith(\"om\"))\n",
    "\n",
    "print()\n",
    "\n",
    "# strip method -> Returns a string with all leading and trailing characters removed.\n",
    "print(\"[\" + \"   aleph   \".strip() + \"]\")"
   ]
  },
  {
   "cell_type": "code",
   "execution_count": 8,
   "metadata": {},
   "outputs": [
    {
     "name": "stdout",
     "output_type": "stream",
     "text": [
      "i KNOW THAT i KNOW NOTHING.\n",
      "\n",
      "I Know That I Know Nothing. Part 1.\n",
      "\n",
      "I KNOW THAT I KNOW NOTHING. PART 2.\n"
     ]
    }
   ],
   "source": [
    "# Swapcase method -> Returns a string with all uppercase characters converted to lowercase and vice versa.\n",
    "# Title method -> Returns a string with each word capitalized.\n",
    "# Upper method -> Returns a string with all lowercase characters converted to uppercase.\n",
    "# Demonstrating the swapcase() method:\n",
    "print(\"I know that I know nothing.\".swapcase())\n",
    "\n",
    "print()\n",
    "\n",
    "# Demonstrating the title() method:\n",
    "print(\"I know that I know nothing. Part 1.\".title())\n",
    "\n",
    "print()\n",
    "\n",
    "# Demonstrating the upper() method:\n",
    "print(\"I know that I know nothing. Part 2.\".upper())\n"
   ]
  },
  {
   "cell_type": "markdown",
   "metadata": {},
   "source": [
    "## Summary\n",
    "### Methods offered by strings are:\n",
    "- capitalize( ) – changes all string letters to capitals;\n",
    "- center( ) – centers the string inside the field of a known length;\n",
    "- count( ) – counts the occurrences of a given character;\n",
    "- join( ) – joins all items of a tuple/list into one string;\n",
    "- lower( ) – converts all the string's letters into lower-case letters;\n",
    "- lstrip( ) – removes the white characters from the beginning of the string;\n",
    "- replace( ) – replaces a given substring with another;\n",
    "- rfind( ) – finds a substring starting from the end of the string;\n",
    "- rstrip( ) – removes the trailing white spaces from the end of the string;\n",
    "- split( ) – splits the string into a substring using a given delimiter;\n",
    "- strip( ) – removes the leading and trailing white spaces;\n",
    "- swapcase( ) – swaps the letters' cases (lower to upper and vice versa)\n",
    "- title( ) – makes the first letter in each word upper-case;\n",
    "- upper( ) – converts all the string's letter into upper-case letters.\n",
    "### String content can be determined by the following methods (All return => Boolean Values)\n",
    "- endswith( ) – does the string end with a given substring?\n",
    "- isalnum( ) – does the string consist only of letters and digits?\n",
    "- isalpha( ) – does the string consist only of letters?\n",
    "- islower( ) – does the string consists only of lower-case letters?\n",
    "- isspace( ) – does the string consists only of white spaces?\n",
    "- isupper( ) – does the string consists only of upper-case letters?\n",
    "- startswith( ) – does the string begin with a given substring?"
   ]
  },
  {
   "cell_type": "markdown",
   "metadata": {},
   "source": [
    "## Excersises\n",
    "What are the expected output of the following pieces of code?\n",
    "Attempt to answer before running the code."
   ]
  },
  {
   "cell_type": "code",
   "execution_count": 9,
   "metadata": {},
   "outputs": [
    {
     "name": "stdout",
     "output_type": "stream",
     "text": [
      "ABC123xyz"
     ]
    }
   ],
   "source": [
    "for ch in \"abc123XYZ\":\n",
    "    if ch.isupper():\n",
    "        print(ch.lower(), end='')\n",
    "    elif ch.islower():\n",
    "        print(ch.upper(), end='')\n",
    "    else:\n",
    "        print(ch, end='')"
   ]
  },
  {
   "cell_type": "code",
   "execution_count": 10,
   "metadata": {},
   "outputs": [
    {
     "name": "stdout",
     "output_type": "stream",
     "text": [
      "of\n"
     ]
    }
   ],
   "source": [
    "s1 = 'Where are the snows of yesterday?'\n",
    "s2 = s1.split()\n",
    "print(s2[-2])"
   ]
  },
  {
   "cell_type": "code",
   "execution_count": 11,
   "metadata": {},
   "outputs": [
    {
     "name": "stdout",
     "output_type": "stream",
     "text": [
      "Where*are*the*snows*of*yesterday?\n"
     ]
    }
   ],
   "source": [
    "the_list = ['Where', 'are', 'the', 'snows', 'of', 'yesterday?']\n",
    "s = '*'.join(the_list)\n",
    "print(s)"
   ]
  },
  {
   "cell_type": "code",
   "execution_count": 13,
   "metadata": {},
   "outputs": [
    {
     "name": "stdout",
     "output_type": "stream",
     "text": [
      "It is either difficult or simple\n"
     ]
    }
   ],
   "source": [
    "s = 'It is either easy or hard'\n",
    "s = s.replace('easy', 'difficult').replace('hard', 'simple')\n",
    "print(s)"
   ]
  },
  {
   "cell_type": "code",
   "execution_count": null,
   "metadata": {},
   "outputs": [],
   "source": []
  },
  {
   "cell_type": "markdown",
   "metadata": {},
   "source": [
    "## Lab\n",
    "1. Write a program that:\n",
    "- accepts exactly one argument - a string;\n",
    "- returns a list of words created from the string, divided in the places where the string contains whitespaces;\n",
    "- the string is empty, the function should return an empty list;\n",
    "- its name should be mysplit()"
   ]
  },
  {
   "cell_type": "code",
   "execution_count": 14,
   "metadata": {},
   "outputs": [
    {
     "name": "stdout",
     "output_type": "stream",
     "text": [
      "['To', 'be', 'or', 'not', 'to', 'be,', 'that', 'is', 'the', 'question']\n",
      "['To', 'be', 'or', 'not', 'to', 'be,that', 'is', 'the', 'question']\n",
      "[]\n",
      "['abc']\n",
      "[]\n"
     ]
    }
   ],
   "source": [
    "# Solution\n",
    "def mysplit(strng):\n",
    "    if len(strng) == 0:\n",
    "        return []\n",
    "    else:\n",
    "        return strng.split()\n",
    "\n",
    "print(mysplit(\"To be or not to be, that is the question\"))\n",
    "print(mysplit(\"To be or not to be,that is the question\"))\n",
    "print(mysplit(\"   \"))\n",
    "print(mysplit(\" abc \"))\n",
    "print(mysplit(\"\"))\n"
   ]
  },
  {
   "cell_type": "code",
   "execution_count": 15,
   "metadata": {},
   "outputs": [
    {
     "name": "stdout",
     "output_type": "stream",
     "text": [
      "True\n",
      "True\n",
      "True\n",
      "True\n"
     ]
    }
   ],
   "source": [
    "# String Comparasion\n",
    "# All operators ==, !=, <, >, <=, >= are supported.\n",
    "# They compare the CODE values of two operands.\n",
    "print(\"abc\" == \"abc\") # True\n",
    "print(\"abc\" != \"Abc\") # True\n",
    "# Longer strings are greater than shorter strings.\n",
    "print(\"abcd\" > \"Abc\") # True\n",
    "# Upper case letters are lesser than lower case letters.\n",
    "print(\"Abc\" < \"abc\") # True\n",
    "\n",
    "# Important -> Don't compare strings to numbers.\n",
    "\n"
   ]
  },
  {
   "cell_type": "code",
   "execution_count": 16,
   "metadata": {},
   "outputs": [
    {
     "name": "stdout",
     "output_type": "stream",
     "text": [
      "['Omega', 'Alpha', 'Beta', 'Gamma', 'Delta']\n",
      "['Alpha', 'Beta', 'Delta', 'Gamma', 'Omega']\n"
     ]
    }
   ],
   "source": [
    "# Sorting strings\n",
    "# There are two ways to sort strings. The first is to use the built-in sort() function. The second is to use the sorted() function.\n",
    "# The built-in sort() function sorts a list in place. The sorted() function returns a (new) sorted list.\n",
    "greek = [\"Omega\", \"Alpha\", \"Beta\", \"Gamma\", \"Delta\"]\n",
    "greek_sorted = sorted(greek) # Returns a new sorted list\n",
    "print(greek)\n",
    "print(greek_sorted)"
   ]
  },
  {
   "cell_type": "code",
   "execution_count": 18,
   "metadata": {},
   "outputs": [
    {
     "name": "stdout",
     "output_type": "stream",
     "text": [
      "['Omega', 'Beta', 'Alpha', 'Epsilon', 'Gamma', 'Delta']\n",
      "['Alpha', 'Beta', 'Delta', 'Epsilon', 'Gamma', 'Omega']\n"
     ]
    }
   ],
   "source": [
    "second_greek = [\"Omega\", \"Beta\", \"Alpha\", \"Epsilon\", \"Gamma\", \"Delta\"]\n",
    "print(second_greek)\n",
    "second_greek.sort() # Sorts the list in place. i.e. the original list is modified.\n",
    "print(second_greek)"
   ]
  },
  {
   "cell_type": "code",
   "execution_count": 20,
   "metadata": {},
   "outputs": [
    {
     "name": "stdout",
     "output_type": "stream",
     "text": [
      "<class 'str'> <class 'int'> <class 'float'> <class 'str'>\n"
     ]
    }
   ],
   "source": [
    "# Converting strings to numbers and vice versa\n",
    "# The built-in int() function converts a string to an integer.\n",
    "# The built-in float() function converts a string to a float.\n",
    "# The built-in str() function converts a number to a string.\n",
    "a = \"123456\" # String\n",
    "b = int(a) # Integer\n",
    "c = float(a) # Float\n",
    "d = str(b) # Back to string\n",
    "print(type(a), type(b), type(c), type(d))"
   ]
  },
  {
   "cell_type": "markdown",
   "metadata": {},
   "source": [
    "## Summary\n",
    "1. string == number is always False.\n",
    "2. string != number is always True.\n",
    "3. string >= always raises an exception.\n",
    "4. sorted() returns a new list, not a reference to the original list.\n",
    "5. list.sort() modifies the original list.\n",
    "6. str(object) returns a string representation of the object.\n",
    "7. int(string) returns an integer representation of the string.\n",
    "8. float(string) returns a float representation of the string.\n",
    "9. conversion of fails if the string doesn't contain a number."
   ]
  },
  {
   "cell_type": "markdown",
   "metadata": {},
   "source": [
    "## Excersises -\n",
    "- Work them out on your own before looking at the solutions."
   ]
  },
  {
   "cell_type": "code",
   "execution_count": null,
   "metadata": {},
   "outputs": [],
   "source": []
  }
 ],
 "metadata": {
  "interpreter": {
   "hash": "6281920a2f7d55fb1819a37259a7b826a3ceec2b5323bb212e4bf02908926b41"
  },
  "kernelspec": {
   "display_name": "Python 3.8.10 ('env': venv)",
   "language": "python",
   "name": "python3"
  },
  "language_info": {
   "codemirror_mode": {
    "name": "ipython",
    "version": 3
   },
   "file_extension": ".py",
   "mimetype": "text/x-python",
   "name": "python",
   "nbconvert_exporter": "python",
   "pygments_lexer": "ipython3",
   "version": "3.8.10"
  },
  "orig_nbformat": 4
 },
 "nbformat": 4,
 "nbformat_minor": 2
}
